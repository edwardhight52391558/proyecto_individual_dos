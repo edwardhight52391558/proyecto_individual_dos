{
 "cells": [
  {
   "cell_type": "code",
   "execution_count": 3,
   "metadata": {},
   "outputs": [],
   "source": [
    "import pandas as pd\n",
    "import matplotlib.pyplot as plt\n",
    "import numpy as np\n",
    "from matplotlib import colors as mcolors\n"
   ]
  },
  {
   "cell_type": "code",
   "execution_count": 365,
   "metadata": {},
   "outputs": [],
   "source": [
    "df_1,df_2,df_3,df_4,df_5,df_6,df_7,df_8,df_9,df_10,df_11,df_12,df_13 = 'df_1','df_2','df_3','df_4','df_5','df_6','df_7','df_8','df_9','df_10','df_11','df_12','df_13'\n",
    "def data_base(p):\n",
    "    if 'df_1' == p:\n",
    "        # (1) Penetración de Internet fijo (accesos por cada 100 hogares).\n",
    "        df_1 = pd.read_csv('https://datosabiertos.enacom.gob.ar/rest/datastreams/275028/data.csv', decimal= ',')\n",
    "        return df_1\n",
    "    if 'df_2' == p:\n",
    "        # (2) Serie trimestral de accesos a Internet fijo por tecnología.\n",
    "        df_2 = pd.read_csv('https://datosabiertos.enacom.gob.ar/rest/datastreams/275029/data.csv')\n",
    "        return df_2\n",
    "    if 'df_3' == p:\n",
    "        # (3) Acceso a Internet fijo por tecnología y provincia.\n",
    "        df_3 = pd.read_csv('https://datosabiertos.enacom.gob.ar/rest/datastreams/255796/data.csv')\n",
    "        return df_3\n",
    "    if 'df_4' == p:\n",
    "        # (4) Acceso a Internet Fijo por rangos de velocidad de bajada y provincia.\n",
    "        df_4 = pd.read_csv('https://datosabiertos.enacom.gob.ar/rest/datastreams/275026/data.csv')\n",
    "        return df_4\n",
    "    if 'df_5' == p:\n",
    "        # (5) Distribución de los accesos totales nacionales a Internet fijo por velocidad.\n",
    "        df_5 = pd.read_csv('https://datosabiertos.enacom.gob.ar/rest/datastreams/280921/data.csv')\n",
    "        return df_5\n",
    "    if 'df_6' == p:\n",
    "        # (6) Ingresos trimestrales por la prestación del servicio de Internet fijo.\n",
    "        df_6 = pd.read_csv('https://datosabiertos.enacom.gob.ar/rest/datastreams/275023/data.csv')\n",
    "        return df_6\n",
    "    if 'df_7' == p:\n",
    "        # (7) Accesos a Internet fijo por velocidad de bajada y localidad.\n",
    "        df_7 = pd.read_csv('https://datosabiertos.enacom.gob.ar/rest/datastreams/277617/data.csv')\n",
    "        return df_7\n",
    "    if 'df_8' == p:\n",
    "        # (8) Accesos a Internet fijo por tecnología y localidad.\n",
    "        df_8 = pd.read_csv('https://datosabiertos.enacom.gob.ar/rest/datastreams/279175/data.csv')\n",
    "        return df_8\n",
    "    if 'df_9' == p:\n",
    "        # (9) Listado de localidades con conectividad a internet.\n",
    "        df_9 = pd.read_csv('https://datosabiertos.enacom.gob.ar/rest/datastreams/275022/data.csv')\n",
    "        return df_9\n",
    "    if 'df_10' == p:\n",
    "        # (10) Conectividad al servicio de Internet.\n",
    "        df_10 = pd.read_csv('https://datosabiertos.enacom.gob.ar/rest/datastreams/277615/data.csv', decimal= ',')\n",
    "        return df_10\n",
    "    if 'df_11' == p:\n",
    "        # (11) Velocidad media de bajada de Internet fijo por provincia.\n",
    "        df_11 = pd.read_csv('https://datosabiertos.enacom.gob.ar/rest/datastreams/290237/data.csv')\n",
    "        return df_11\n",
    "    if 'df_12' == p:\n",
    "        # (12) Ubicacion geografica de cada provincia Argentina.\n",
    "        df_12 = pd.read_csv('https://infra.datos.gob.ar/catalog/modernizacion/dataset/7/distribution/7.7/download/provincias.csv')\n",
    "        return df_12\n",
    "    if 'df_13' == p:\n",
    "        # (12) Distribucion de Hogares Argentina.\n",
    "        df_13 = pd.read_csv('reporte.csv')\n",
    "        return df_13"
   ]
  },
  {
   "cell_type": "code",
   "execution_count": null,
   "metadata": {},
   "outputs": [],
   "source": [
    "# Crear el DataFrame para la visualizacion del KPI Penetración de Internet fijo (accesos por cada 100 hogares).\n",
    "\n",
    "df_1 = data_base(df_1)\n",
    "df_1 = pd.read_csv('https://datosabiertos.enacom.gob.ar/rest/datastreams/275028/data.csv', decimal= ',')\n",
    "df_12 = pd.read_csv('https://infra.datos.gob.ar/catalog/modernizacion/dataset/7/distribution/7.7/download/provincias.csv')\n",
    "df_1 = df_1.sort_values('Provincia')\n",
    "df_12 = df_12[['centroide_lat','centroide_lon','nombre']].sort_values('nombre')\n",
    "df_12 = pd.DataFrame(df_12.values.repeat(35,axis=0))\n",
    "df_1['ind']=[i for i in range(840)]\n",
    "df_1 = df_1.set_index('ind')\n",
    "df_1_Ubicacion = pd.concat([df_1, df_12], axis=1)\n",
    "df_1_Ubicacion = df_1_Ubicacion.drop(2, axis=1)\n",
    "df_1_Ubicacion = df_1_Ubicacion.rename({0: 'Latitud',1:'Longitud'}, axis=1)\n",
    "df_1_Ubicacion = df_1_Ubicacion[df_1_Ubicacion['Año']==2022].groupby('Provincia',as_index=False).max()[['Provincia','Accesos por cada 100 hogares','Latitud','Longitud']]"
   ]
  },
  {
   "cell_type": "code",
   "execution_count": 4,
   "metadata": {},
   "outputs": [],
   "source": [
    "# Crear el DataFrame que cocatena la columna trimestre con año.\n",
    "\n",
    "df_1_Trimestre = data_base(df_1)\n",
    "df_1_Trimestre[['Año','Trimestre']] = df_1_Trimestre[['Año','Trimestre']].astype('str')\n",
    "df_1_Trimestre['Trimestre'] = df_1_Trimestre['Año'] + df_1_Trimestre['Trimestre'] \n",
    "df_1_Trimestre[['Año','Trimestre']] = df_1_Trimestre[['Año','Trimestre']].astype('int64')"
   ]
  },
  {
   "cell_type": "code",
   "execution_count": 166,
   "metadata": {},
   "outputs": [
    {
     "data": {
      "text/html": [
       "<div>\n",
       "<style scoped>\n",
       "    .dataframe tbody tr th:only-of-type {\n",
       "        vertical-align: middle;\n",
       "    }\n",
       "\n",
       "    .dataframe tbody tr th {\n",
       "        vertical-align: top;\n",
       "    }\n",
       "\n",
       "    .dataframe thead th {\n",
       "        text-align: right;\n",
       "    }\n",
       "</style>\n",
       "<table border=\"1\" class=\"dataframe\">\n",
       "  <thead>\n",
       "    <tr style=\"text-align: right;\">\n",
       "      <th></th>\n",
       "      <th>Año</th>\n",
       "      <th>Trimestre</th>\n",
       "      <th>Provincia</th>\n",
       "      <th>Accesos por cada 100 hogares</th>\n",
       "    </tr>\n",
       "  </thead>\n",
       "  <tbody>\n",
       "    <tr>\n",
       "      <th>0</th>\n",
       "      <td>2022</td>\n",
       "      <td>20223</td>\n",
       "      <td>Buenos Aires</td>\n",
       "      <td>78.11</td>\n",
       "    </tr>\n",
       "    <tr>\n",
       "      <th>1</th>\n",
       "      <td>2022</td>\n",
       "      <td>20223</td>\n",
       "      <td>Capital Federal</td>\n",
       "      <td>122.28</td>\n",
       "    </tr>\n",
       "    <tr>\n",
       "      <th>2</th>\n",
       "      <td>2022</td>\n",
       "      <td>20223</td>\n",
       "      <td>Catamarca</td>\n",
       "      <td>65.33</td>\n",
       "    </tr>\n",
       "    <tr>\n",
       "      <th>3</th>\n",
       "      <td>2022</td>\n",
       "      <td>20223</td>\n",
       "      <td>Chaco</td>\n",
       "      <td>43.86</td>\n",
       "    </tr>\n",
       "    <tr>\n",
       "      <th>4</th>\n",
       "      <td>2022</td>\n",
       "      <td>20223</td>\n",
       "      <td>Chubut</td>\n",
       "      <td>84.38</td>\n",
       "    </tr>\n",
       "  </tbody>\n",
       "</table>\n",
       "</div>"
      ],
      "text/plain": [
       "    Año  Trimestre        Provincia  Accesos por cada 100 hogares\n",
       "0  2022      20223     Buenos Aires                         78.11\n",
       "1  2022      20223  Capital Federal                        122.28\n",
       "2  2022      20223        Catamarca                         65.33\n",
       "3  2022      20223            Chaco                         43.86\n",
       "4  2022      20223           Chubut                         84.38"
      ]
     },
     "execution_count": 166,
     "metadata": {},
     "output_type": "execute_result"
    }
   ],
   "source": [
    "df_1_Trimestre.head()"
   ]
  },
  {
   "cell_type": "code",
   "execution_count": 6,
   "metadata": {
    "notebookRunGroups": {
     "groupValue": "2"
    }
   },
   "outputs": [
    {
     "name": "stdout",
     "output_type": "stream",
     "text": [
      "              Provincia  Accesos por cada 100 hogares\n",
      "0       Capital Federal                        122.28\n",
      "1      Tierra Del Fuego                         99.51\n",
      "2              La Pampa                         96.59\n",
      "3               Córdoba                         88.31\n",
      "4                Chubut                         84.38\n",
      "5              San Luis                         81.74\n",
      "6              La Rioja                         80.66\n",
      "7               Neuquén                         80.37\n",
      "8              Santa Fe                         78.55\n",
      "9          Buenos Aires                         78.11\n",
      "10            Río Negro                         67.98\n",
      "11            Catamarca                         65.33\n",
      "12           Entre Ríos                         63.67\n",
      "13              Tucumán                         61.14\n",
      "14                Jujuy                         58.91\n",
      "15                Salta                         57.76\n",
      "16             Misiones                         51.82\n",
      "17              Mendoza                         51.03\n",
      "18             San Juan                         50.80\n",
      "19           Corrientes                         48.21\n",
      "20  Santiago Del Estero                         47.98\n",
      "21                Chaco                         43.86\n",
      "22              Formosa                         43.76\n",
      "23           Santa Cruz                         43.19\n"
     ]
    }
   ],
   "source": [
    "# DataFrame que ordena de mayor a menor el acceso por provincia del ultimo trimestre.\n",
    "\n",
    "df_1_PT = df_1_Trimestre[df_1_Trimestre['Trimestre']==20223][['Provincia','Accesos por cada 100 hogares']].sort_values(by='Accesos por cada 100 hogares', ascending= False, ignore_index=True)\n",
    "print(df_1_PT)"
   ]
  },
  {
   "cell_type": "code",
   "execution_count": 7,
   "metadata": {},
   "outputs": [
    {
     "data": {
      "text/html": [
       "<div>\n",
       "<style scoped>\n",
       "    .dataframe tbody tr th:only-of-type {\n",
       "        vertical-align: middle;\n",
       "    }\n",
       "\n",
       "    .dataframe tbody tr th {\n",
       "        vertical-align: top;\n",
       "    }\n",
       "\n",
       "    .dataframe thead th {\n",
       "        text-align: right;\n",
       "    }\n",
       "</style>\n",
       "<table border=\"1\" class=\"dataframe\">\n",
       "  <thead>\n",
       "    <tr style=\"text-align: right;\">\n",
       "      <th></th>\n",
       "      <th>Accesos por cada 100 hogares</th>\n",
       "    </tr>\n",
       "  </thead>\n",
       "  <tbody>\n",
       "    <tr>\n",
       "      <th>count</th>\n",
       "      <td>24.000000</td>\n",
       "    </tr>\n",
       "    <tr>\n",
       "      <th>mean</th>\n",
       "      <td>68.580833</td>\n",
       "    </tr>\n",
       "    <tr>\n",
       "      <th>std</th>\n",
       "      <td>20.672624</td>\n",
       "    </tr>\n",
       "    <tr>\n",
       "      <th>min</th>\n",
       "      <td>43.190000</td>\n",
       "    </tr>\n",
       "    <tr>\n",
       "      <th>25%</th>\n",
       "      <td>50.972500</td>\n",
       "    </tr>\n",
       "    <tr>\n",
       "      <th>50%</th>\n",
       "      <td>64.500000</td>\n",
       "    </tr>\n",
       "    <tr>\n",
       "      <th>75%</th>\n",
       "      <td>80.930000</td>\n",
       "    </tr>\n",
       "    <tr>\n",
       "      <th>max</th>\n",
       "      <td>122.280000</td>\n",
       "    </tr>\n",
       "  </tbody>\n",
       "</table>\n",
       "</div>"
      ],
      "text/plain": [
       "       Accesos por cada 100 hogares\n",
       "count                     24.000000\n",
       "mean                      68.580833\n",
       "std                       20.672624\n",
       "min                       43.190000\n",
       "25%                       50.972500\n",
       "50%                       64.500000\n",
       "75%                       80.930000\n",
       "max                      122.280000"
      ]
     },
     "execution_count": 7,
     "metadata": {},
     "output_type": "execute_result"
    }
   ],
   "source": [
    "# Describe() del ultimo trimestre de acceso a hogares por provincia.\n",
    "\n",
    "df_1_Trimestre[df_1_Trimestre['Trimestre']==20223][['Provincia','Accesos por cada 100 hogares']].sort_values(by='Accesos por cada 100 hogares', ascending= False).describe()"
   ]
  },
  {
   "cell_type": "code",
   "execution_count": 8,
   "metadata": {},
   "outputs": [
    {
     "data": {
      "image/png": "[encoded data removed]",
      "text/plain": [
       "<Figure size 640x480 with 1 Axes>"
      ]
     },
     "metadata": {},
     "output_type": "display_data"
    }
   ],
   "source": [
    "# Grafica del ultimo trimestre por provincia.\n",
    "\n",
    "def acceso_por_provincia():\n",
    "\n",
    "    x = df_1_PT.index\n",
    "    y = df_1_PT['Accesos por cada 100 hogares']\n",
    "    colores = [i for i in mcolors.cnames][9:33]\n",
    "\n",
    "    for i in range(24):\n",
    "        plt.annotate(str(df_1_PT['Provincia'][i]),xy=(x[i],y[i]),xytext=(x[i],y[i]+3),ha= 'center',rotation= 90)\n",
    "    plt.xlabel(\"Provincias\")\n",
    "    plt.ylabel(\"Accesos por cada 100 hogares\")\n",
    "    plt.bar(x,y, label= df_1_PT['Provincia']+ [\"  (\" for i in range(24)] +df_1_PT.index.astype(str)+ [\")\" for i in range(24)],color= colores)\n",
    "    plt.grid(axis = 'y')\n",
    "    plt.plot(x,np.array([100]*24),'r_')\n",
    "    plt.annotate('limite outlier',(18,100),xytext=(20,120),arrowprops=dict(facecolor='black', shrink=0.05),size=15)\n",
    "    \n",
    "    return plt.show()\n",
    "acceso_por_provincia()"
   ]
  },
  {
   "cell_type": "code",
   "execution_count": 9,
   "metadata": {},
   "outputs": [],
   "source": [
    "df_13 = data_base(df_13)"
   ]
  },
  {
   "cell_type": "code",
   "execution_count": 10,
   "metadata": {},
   "outputs": [],
   "source": [
    "# Transformar el data frame df_13.\n",
    "\n",
    "df_13['Casa Tipo A'] = df_13['Casa Tipo A']+df_13['Casa Tipo B']\n",
    "df_13['Rancho'] = df_13['Rancho']+df_13['Casilla']\n",
    "df_13['Pieza en inquilinato'] = df_13['Pieza en inquilinato']+df_13['Pieza en hotel familiar o pensión']+df_13['Local no construido para habitación']\n",
    "df_13.drop(['Casa Tipo B','Casilla','Pieza en hotel familiar o pensión','Local no construido para habitación'],axis=1,inplace=True)\n",
    "df_13 = df_13.rename(columns= {'Unnamed: 0':'Provincia','Pieza en inquilinato':'Pension','Casa Tipo A':'Casa'})\n"
   ]
  },
  {
   "cell_type": "code",
   "execution_count": 11,
   "metadata": {},
   "outputs": [
    {
     "data": {
      "text/html": [
       "<div>\n",
       "<style scoped>\n",
       "    .dataframe tbody tr th:only-of-type {\n",
       "        vertical-align: middle;\n",
       "    }\n",
       "\n",
       "    .dataframe tbody tr th {\n",
       "        vertical-align: top;\n",
       "    }\n",
       "\n",
       "    .dataframe thead th {\n",
       "        text-align: right;\n",
       "    }\n",
       "</style>\n",
       "<table border=\"1\" class=\"dataframe\">\n",
       "  <thead>\n",
       "    <tr style=\"text-align: right;\">\n",
       "      <th></th>\n",
       "      <th>Provincia</th>\n",
       "      <th>Casa</th>\n",
       "      <th>Rancho</th>\n",
       "      <th>Departamento</th>\n",
       "      <th>Pension</th>\n",
       "      <th>Vivienda móvil</th>\n",
       "      <th>Total</th>\n",
       "    </tr>\n",
       "  </thead>\n",
       "  <tbody>\n",
       "    <tr>\n",
       "      <th>0</th>\n",
       "      <td>Ciudad Autónoma de Buenos Aires</td>\n",
       "      <td>280314</td>\n",
       "      <td>3016</td>\n",
       "      <td>818341</td>\n",
       "      <td>48364</td>\n",
       "      <td>99</td>\n",
       "      <td>1150134</td>\n",
       "    </tr>\n",
       "    <tr>\n",
       "      <th>1</th>\n",
       "      <td>Buenos Aires</td>\n",
       "      <td>4021102</td>\n",
       "      <td>161053</td>\n",
       "      <td>571272</td>\n",
       "      <td>34526</td>\n",
       "      <td>1531</td>\n",
       "      <td>4789484</td>\n",
       "    </tr>\n",
       "    <tr>\n",
       "      <th>2</th>\n",
       "      <td>Catamarca</td>\n",
       "      <td>89655</td>\n",
       "      <td>2672</td>\n",
       "      <td>2909</td>\n",
       "      <td>720</td>\n",
       "      <td>45</td>\n",
       "      <td>96001</td>\n",
       "    </tr>\n",
       "    <tr>\n",
       "      <th>3</th>\n",
       "      <td>Córdoba</td>\n",
       "      <td>885651</td>\n",
       "      <td>9422</td>\n",
       "      <td>129774</td>\n",
       "      <td>6504</td>\n",
       "      <td>492</td>\n",
       "      <td>1031843</td>\n",
       "    </tr>\n",
       "    <tr>\n",
       "      <th>4</th>\n",
       "      <td>Corrientes</td>\n",
       "      <td>226083</td>\n",
       "      <td>22281</td>\n",
       "      <td>15455</td>\n",
       "      <td>3728</td>\n",
       "      <td>250</td>\n",
       "      <td>267797</td>\n",
       "    </tr>\n",
       "  </tbody>\n",
       "</table>\n",
       "</div>"
      ],
      "text/plain": [
       "                         Provincia     Casa  Rancho  Departamento  Pension   \n",
       "0  Ciudad Autónoma de Buenos Aires   280314    3016        818341    48364  \\\n",
       "1                     Buenos Aires  4021102  161053        571272    34526   \n",
       "2                        Catamarca    89655    2672          2909      720   \n",
       "3                          Córdoba   885651    9422        129774     6504   \n",
       "4                       Corrientes   226083   22281         15455     3728   \n",
       "\n",
       "   Vivienda móvil    Total  \n",
       "0              99  1150134  \n",
       "1            1531  4789484  \n",
       "2              45    96001  \n",
       "3             492  1031843  \n",
       "4             250   267797  "
      ]
     },
     "execution_count": 11,
     "metadata": {},
     "output_type": "execute_result"
    }
   ],
   "source": [
    "df_13.head()"
   ]
  },
  {
   "cell_type": "code",
   "execution_count": 12,
   "metadata": {},
   "outputs": [],
   "source": [
    "# Pasar df_13 a porcentajes.\n",
    "df_13_porcentaje = df_13\n",
    "def porcentajes_df_13(p):\n",
    "    for i in p:\n",
    "        df_13_porcentaje[i] = round((df_13[i]/df_13['Total'])*100,1)\n",
    "    return \n",
    "\n",
    "porcentajes_df_13(['Casa','Rancho','Departamento','Pension','Vivienda móvil'])"
   ]
  },
  {
   "cell_type": "code",
   "execution_count": 13,
   "metadata": {},
   "outputs": [
    {
     "data": {
      "text/html": [
       "<div>\n",
       "<style scoped>\n",
       "    .dataframe tbody tr th:only-of-type {\n",
       "        vertical-align: middle;\n",
       "    }\n",
       "\n",
       "    .dataframe tbody tr th {\n",
       "        vertical-align: top;\n",
       "    }\n",
       "\n",
       "    .dataframe thead th {\n",
       "        text-align: right;\n",
       "    }\n",
       "</style>\n",
       "<table border=\"1\" class=\"dataframe\">\n",
       "  <thead>\n",
       "    <tr style=\"text-align: right;\">\n",
       "      <th></th>\n",
       "      <th>Provincia</th>\n",
       "      <th>Casa</th>\n",
       "      <th>Rancho</th>\n",
       "      <th>Departamento</th>\n",
       "      <th>Pension</th>\n",
       "      <th>Vivienda móvil</th>\n",
       "      <th>Total</th>\n",
       "    </tr>\n",
       "  </thead>\n",
       "  <tbody>\n",
       "    <tr>\n",
       "      <th>0</th>\n",
       "      <td>Capital Federal</td>\n",
       "      <td>24.4</td>\n",
       "      <td>0.3</td>\n",
       "      <td>71.2</td>\n",
       "      <td>4.2</td>\n",
       "      <td>0.0</td>\n",
       "      <td>1150134</td>\n",
       "    </tr>\n",
       "    <tr>\n",
       "      <th>1</th>\n",
       "      <td>Buenos Aires</td>\n",
       "      <td>84.0</td>\n",
       "      <td>3.4</td>\n",
       "      <td>11.9</td>\n",
       "      <td>0.7</td>\n",
       "      <td>0.0</td>\n",
       "      <td>4789484</td>\n",
       "    </tr>\n",
       "    <tr>\n",
       "      <th>2</th>\n",
       "      <td>Catamarca</td>\n",
       "      <td>93.4</td>\n",
       "      <td>2.8</td>\n",
       "      <td>3.0</td>\n",
       "      <td>0.7</td>\n",
       "      <td>0.0</td>\n",
       "      <td>96001</td>\n",
       "    </tr>\n",
       "    <tr>\n",
       "      <th>3</th>\n",
       "      <td>Córdoba</td>\n",
       "      <td>85.8</td>\n",
       "      <td>0.9</td>\n",
       "      <td>12.6</td>\n",
       "      <td>0.6</td>\n",
       "      <td>0.0</td>\n",
       "      <td>1031843</td>\n",
       "    </tr>\n",
       "    <tr>\n",
       "      <th>4</th>\n",
       "      <td>Corrientes</td>\n",
       "      <td>84.4</td>\n",
       "      <td>8.3</td>\n",
       "      <td>5.8</td>\n",
       "      <td>1.4</td>\n",
       "      <td>0.1</td>\n",
       "      <td>267797</td>\n",
       "    </tr>\n",
       "  </tbody>\n",
       "</table>\n",
       "</div>"
      ],
      "text/plain": [
       "         Provincia  Casa  Rancho  Departamento  Pension  Vivienda móvil   \n",
       "0  Capital Federal  24.4     0.3          71.2      4.2             0.0  \\\n",
       "1     Buenos Aires  84.0     3.4          11.9      0.7             0.0   \n",
       "2        Catamarca  93.4     2.8           3.0      0.7             0.0   \n",
       "3          Córdoba  85.8     0.9          12.6      0.6             0.0   \n",
       "4       Corrientes  84.4     8.3           5.8      1.4             0.1   \n",
       "\n",
       "     Total  \n",
       "0  1150134  \n",
       "1  4789484  \n",
       "2    96001  \n",
       "3  1031843  \n",
       "4   267797  "
      ]
     },
     "execution_count": 13,
     "metadata": {},
     "output_type": "execute_result"
    }
   ],
   "source": [
    "df_13_porcentaje.loc[0,'Provincia'] = 'Capital Federal'\n",
    "df_13_porcentaje.head()"
   ]
  },
  {
   "cell_type": "code",
   "execution_count": 14,
   "metadata": {},
   "outputs": [],
   "source": [
    "# Eliminar la columna total de df_13_porcentaje.\n",
    "\n",
    "df_13_porcentaje.drop('Total',axis=1,inplace=True)"
   ]
  },
  {
   "cell_type": "code",
   "execution_count": 15,
   "metadata": {},
   "outputs": [
    {
     "data": {
      "text/html": [
       "<div>\n",
       "<style scoped>\n",
       "    .dataframe tbody tr th:only-of-type {\n",
       "        vertical-align: middle;\n",
       "    }\n",
       "\n",
       "    .dataframe tbody tr th {\n",
       "        vertical-align: top;\n",
       "    }\n",
       "\n",
       "    .dataframe thead th {\n",
       "        text-align: right;\n",
       "    }\n",
       "</style>\n",
       "<table border=\"1\" class=\"dataframe\">\n",
       "  <thead>\n",
       "    <tr style=\"text-align: right;\">\n",
       "      <th></th>\n",
       "      <th>Casa</th>\n",
       "      <th>Rancho</th>\n",
       "      <th>Departamento</th>\n",
       "      <th>Pension</th>\n",
       "      <th>Vivienda móvil</th>\n",
       "    </tr>\n",
       "  </thead>\n",
       "  <tbody>\n",
       "    <tr>\n",
       "      <th>count</th>\n",
       "      <td>24.000000</td>\n",
       "      <td>24.000000</td>\n",
       "      <td>24.000000</td>\n",
       "      <td>24.000000</td>\n",
       "      <td>24.000000</td>\n",
       "    </tr>\n",
       "    <tr>\n",
       "      <th>mean</th>\n",
       "      <td>82.520833</td>\n",
       "      <td>4.787500</td>\n",
       "      <td>11.445833</td>\n",
       "      <td>1.187500</td>\n",
       "      <td>0.062500</td>\n",
       "    </tr>\n",
       "    <tr>\n",
       "      <th>std</th>\n",
       "      <td>13.207178</td>\n",
       "      <td>3.455092</td>\n",
       "      <td>13.420781</td>\n",
       "      <td>0.886278</td>\n",
       "      <td>0.049454</td>\n",
       "    </tr>\n",
       "    <tr>\n",
       "      <th>min</th>\n",
       "      <td>24.400000</td>\n",
       "      <td>0.300000</td>\n",
       "      <td>2.900000</td>\n",
       "      <td>0.400000</td>\n",
       "      <td>0.000000</td>\n",
       "    </tr>\n",
       "    <tr>\n",
       "      <th>25%</th>\n",
       "      <td>83.600000</td>\n",
       "      <td>2.175000</td>\n",
       "      <td>5.600000</td>\n",
       "      <td>0.575000</td>\n",
       "      <td>0.000000</td>\n",
       "    </tr>\n",
       "    <tr>\n",
       "      <th>50%</th>\n",
       "      <td>84.600000</td>\n",
       "      <td>3.400000</td>\n",
       "      <td>8.650000</td>\n",
       "      <td>1.000000</td>\n",
       "      <td>0.100000</td>\n",
       "    </tr>\n",
       "    <tr>\n",
       "      <th>75%</th>\n",
       "      <td>87.050000</td>\n",
       "      <td>7.025000</td>\n",
       "      <td>12.650000</td>\n",
       "      <td>1.425000</td>\n",
       "      <td>0.100000</td>\n",
       "    </tr>\n",
       "    <tr>\n",
       "      <th>max</th>\n",
       "      <td>93.400000</td>\n",
       "      <td>11.800000</td>\n",
       "      <td>71.200000</td>\n",
       "      <td>4.200000</td>\n",
       "      <td>0.100000</td>\n",
       "    </tr>\n",
       "  </tbody>\n",
       "</table>\n",
       "</div>"
      ],
      "text/plain": [
       "            Casa     Rancho  Departamento    Pension  Vivienda móvil\n",
       "count  24.000000  24.000000     24.000000  24.000000       24.000000\n",
       "mean   82.520833   4.787500     11.445833   1.187500        0.062500\n",
       "std    13.207178   3.455092     13.420781   0.886278        0.049454\n",
       "min    24.400000   0.300000      2.900000   0.400000        0.000000\n",
       "25%    83.600000   2.175000      5.600000   0.575000        0.000000\n",
       "50%    84.600000   3.400000      8.650000   1.000000        0.100000\n",
       "75%    87.050000   7.025000     12.650000   1.425000        0.100000\n",
       "max    93.400000  11.800000     71.200000   4.200000        0.100000"
      ]
     },
     "execution_count": 15,
     "metadata": {},
     "output_type": "execute_result"
    }
   ],
   "source": [
    "df_13_porcentaje.describe()"
   ]
  },
  {
   "cell_type": "code",
   "execution_count": 16,
   "metadata": {},
   "outputs": [],
   "source": [
    "df_casa_depto = df_13_porcentaje[['Provincia','Casa','Departamento']]"
   ]
  },
  {
   "cell_type": "code",
   "execution_count": 17,
   "metadata": {},
   "outputs": [
    {
     "data": {
      "image/png": "[encoded data removed]",
      "text/plain": [
       "<Figure size 640x480 with 1 Axes>"
      ]
     },
     "metadata": {},
     "output_type": "display_data"
    }
   ],
   "source": [
    "# Grafica del porcentaje de casas y departamentos por provincia.\n",
    "\n",
    "def casas_deptos_por_provincia():\n",
    "    \n",
    "    #plot1\n",
    "    x = df_casa_depto.index\n",
    "    y = df_casa_depto['Casa']\n",
    "    for i in range(1,24):\n",
    "        plt.annotate(str(df_casa_depto['Provincia'][i]),xy=(x[i],y[i]),xytext=(x[i],y[i]+3),ha= 'center',rotation= 90)\n",
    "    plt.scatter(x,y)\n",
    "    \n",
    "    #plot2\n",
    "    x = df_casa_depto.index\n",
    "    y = df_casa_depto['Departamento']\n",
    "    plt.annotate(str(df_casa_depto['Provincia'][0]),xy=(x[0],y[0]),xytext=(x[0],y[0]+3),ha= 'center',rotation= 90)\n",
    "    plt.xlabel(\"Provincias\")\n",
    "    plt.ylabel(\"Casas y Departamentos\")\n",
    "    plt.scatter(x,y)\n",
    "    plt.grid(axis = 'y')\n",
    "    plt.legend(['Casas','Departamentos'],bbox_to_anchor=(1.4,0.5))\n",
    "    plt.annotate('el outlier es por el porcentaje de departamentos',(0,71.2),xytext=(5,50),arrowprops=dict(facecolor='black', shrink=0.05),size=15)\n",
    "\n",
    "    return plt.show()\n",
    "casas_deptos_por_provincia()"
   ]
  },
  {
   "cell_type": "code",
   "execution_count": 30,
   "metadata": {},
   "outputs": [],
   "source": [
    "# Pasar a porcentajes la base de datos de acceso a la tecnologia por provincia y luego analizarla.\n",
    "\n",
    "df_3 = data_base(df_3)"
   ]
  },
  {
   "cell_type": "code",
   "execution_count": 101,
   "metadata": {},
   "outputs": [
    {
     "name": "stdout",
     "output_type": "stream",
     "text": [
      "<class 'pandas.core.frame.DataFrame'>\n",
      "RangeIndex: 841 entries, 0 to 840\n",
      "Data columns (total 9 columns):\n",
      " #   Column        Non-Null Count  Dtype  \n",
      "---  ------        --------------  -----  \n",
      " 0   Año           841 non-null    object \n",
      " 1   Trimestre     841 non-null    object \n",
      " 2   Provincia     840 non-null    object \n",
      " 3   ADSL          840 non-null    float64\n",
      " 4   Cablemodem    840 non-null    float64\n",
      " 5   Fibra_optica  840 non-null    float64\n",
      " 6   Wireless      840 non-null    float64\n",
      " 7   Otros         840 non-null    float64\n",
      " 8   Total         840 non-null    float64\n",
      "dtypes: float64(6), object(3)\n",
      "memory usage: 59.3+ KB\n"
     ]
    }
   ],
   "source": [
    "df_3.info()"
   ]
  },
  {
   "cell_type": "code",
   "execution_count": 94,
   "metadata": {},
   "outputs": [],
   "source": [
    "df_3 = df_3.astype({'Wireless':'str','Otros':'str'})"
   ]
  },
  {
   "cell_type": "code",
   "execution_count": 97,
   "metadata": {},
   "outputs": [
    {
     "data": {
      "text/html": [
       "<div>\n",
       "<style scoped>\n",
       "    .dataframe tbody tr th:only-of-type {\n",
       "        vertical-align: middle;\n",
       "    }\n",
       "\n",
       "    .dataframe tbody tr th {\n",
       "        vertical-align: top;\n",
       "    }\n",
       "\n",
       "    .dataframe thead th {\n",
       "        text-align: right;\n",
       "    }\n",
       "</style>\n",
       "<table border=\"1\" class=\"dataframe\">\n",
       "  <thead>\n",
       "    <tr style=\"text-align: right;\">\n",
       "      <th></th>\n",
       "      <th>Año</th>\n",
       "      <th>Trimestre</th>\n",
       "      <th>Provincia</th>\n",
       "      <th>ADSL</th>\n",
       "      <th>Cablemodem</th>\n",
       "      <th>Fibra_optica</th>\n",
       "      <th>Wireless</th>\n",
       "      <th>Otros</th>\n",
       "      <th>Total</th>\n",
       "    </tr>\n",
       "  </thead>\n",
       "  <tbody>\n",
       "    <tr>\n",
       "      <th>0</th>\n",
       "      <td>2022</td>\n",
       "      <td>3</td>\n",
       "      <td>Buenos Aires</td>\n",
       "      <td>339648</td>\n",
       "      <td>2748325</td>\n",
       "      <td>1436433</td>\n",
       "      <td>126846</td>\n",
       "      <td>70416</td>\n",
       "      <td>4721668</td>\n",
       "    </tr>\n",
       "    <tr>\n",
       "      <th>1</th>\n",
       "      <td>2022</td>\n",
       "      <td>3</td>\n",
       "      <td>Capital Federal</td>\n",
       "      <td>140791</td>\n",
       "      <td>1240125</td>\n",
       "      <td>129218</td>\n",
       "      <td>5758</td>\n",
       "      <td>31787</td>\n",
       "      <td>1547679</td>\n",
       "    </tr>\n",
       "    <tr>\n",
       "      <th>2</th>\n",
       "      <td>2022</td>\n",
       "      <td>3</td>\n",
       "      <td>Catamarca</td>\n",
       "      <td>10010</td>\n",
       "      <td>10495</td>\n",
       "      <td>46224</td>\n",
       "      <td>1329</td>\n",
       "      <td>2235</td>\n",
       "      <td>70293</td>\n",
       "    </tr>\n",
       "    <tr>\n",
       "      <th>3</th>\n",
       "      <td>2022</td>\n",
       "      <td>3</td>\n",
       "      <td>Chaco</td>\n",
       "      <td>27164</td>\n",
       "      <td>61800</td>\n",
       "      <td>44645</td>\n",
       "      <td>8178</td>\n",
       "      <td>2359</td>\n",
       "      <td>144146</td>\n",
       "    </tr>\n",
       "    <tr>\n",
       "      <th>4</th>\n",
       "      <td>2022</td>\n",
       "      <td>3</td>\n",
       "      <td>Chubut</td>\n",
       "      <td>45377</td>\n",
       "      <td>72212</td>\n",
       "      <td>9574</td>\n",
       "      <td>29784</td>\n",
       "      <td>8831</td>\n",
       "      <td>165778</td>\n",
       "    </tr>\n",
       "  </tbody>\n",
       "</table>\n",
       "</div>"
      ],
      "text/plain": [
       "    Año Trimestre        Provincia    ADSL Cablemodem Fibra_optica Wireless   \n",
       "0  2022         3     Buenos Aires  339648    2748325      1436433   126846  \\\n",
       "1  2022         3  Capital Federal  140791    1240125       129218     5758   \n",
       "2  2022         3        Catamarca   10010      10495        46224     1329   \n",
       "3  2022         3            Chaco   27164      61800        44645     8178   \n",
       "4  2022         3           Chubut   45377      72212         9574    29784   \n",
       "\n",
       "   Otros    Total  \n",
       "0  70416  4721668  \n",
       "1  31787  1547679  \n",
       "2   2235    70293  \n",
       "3   2359   144146  \n",
       "4   8831   165778  "
      ]
     },
     "execution_count": 97,
     "metadata": {},
     "output_type": "execute_result"
    }
   ],
   "source": [
    "df_3.head()"
   ]
  },
  {
   "cell_type": "code",
   "execution_count": 74,
   "metadata": {},
   "outputs": [],
   "source": [
    "df_3 = df_3.rename(columns={'Fibra óptica':'Fibra_optica'})"
   ]
  },
  {
   "cell_type": "code",
   "execution_count": 100,
   "metadata": {},
   "outputs": [],
   "source": [
    "df_3 = df_3.astype({'ADSL':'float64','Cablemodem':'float64','Fibra_optica':'float64','Wireless':'float64','Otros':'float64','Total':'float64'})"
   ]
  },
  {
   "cell_type": "code",
   "execution_count": 96,
   "metadata": {},
   "outputs": [],
   "source": [
    "df_3['Cablemodem']=df_3.Cablemodem.str.replace('.','')\n",
    "df_3['ADSL']=df_3.ADSL.str.replace('.','')\n",
    "df_3['Wireless']=df_3.Wireless.str.replace('.','')\n",
    "df_3['Fibra_optica']=df_3.Fibra_optica.str.replace('.','')\n",
    "df_3['Otros']=df_3.Otros.str.replace('.','')\n",
    "df_3['Total']=df_3.Total.str.replace('.','')"
   ]
  },
  {
   "cell_type": "code",
   "execution_count": 103,
   "metadata": {},
   "outputs": [],
   "source": [
    "# Porcentajes del ultimo trimestre.\n",
    "\n",
    "df_3_trimestre_ultimo = df_3[df_3.index <= 23][['Provincia','ADSL','Cablemodem','Fibra_optica','Wireless','Otros','Total']]"
   ]
  },
  {
   "cell_type": "code",
   "execution_count": 105,
   "metadata": {},
   "outputs": [
    {
     "data": {
      "text/html": [
       "<div>\n",
       "<style scoped>\n",
       "    .dataframe tbody tr th:only-of-type {\n",
       "        vertical-align: middle;\n",
       "    }\n",
       "\n",
       "    .dataframe tbody tr th {\n",
       "        vertical-align: top;\n",
       "    }\n",
       "\n",
       "    .dataframe thead th {\n",
       "        text-align: right;\n",
       "    }\n",
       "</style>\n",
       "<table border=\"1\" class=\"dataframe\">\n",
       "  <thead>\n",
       "    <tr style=\"text-align: right;\">\n",
       "      <th></th>\n",
       "      <th>Provincia</th>\n",
       "      <th>ADSL</th>\n",
       "      <th>Cablemodem</th>\n",
       "      <th>Fibra_optica</th>\n",
       "      <th>Wireless</th>\n",
       "      <th>Otros</th>\n",
       "      <th>Total</th>\n",
       "    </tr>\n",
       "  </thead>\n",
       "  <tbody>\n",
       "    <tr>\n",
       "      <th>0</th>\n",
       "      <td>Buenos Aires</td>\n",
       "      <td>339648.0</td>\n",
       "      <td>2748325.0</td>\n",
       "      <td>1436433.0</td>\n",
       "      <td>126846.0</td>\n",
       "      <td>70416.0</td>\n",
       "      <td>4721668.0</td>\n",
       "    </tr>\n",
       "    <tr>\n",
       "      <th>1</th>\n",
       "      <td>Capital Federal</td>\n",
       "      <td>140791.0</td>\n",
       "      <td>1240125.0</td>\n",
       "      <td>129218.0</td>\n",
       "      <td>5758.0</td>\n",
       "      <td>31787.0</td>\n",
       "      <td>1547679.0</td>\n",
       "    </tr>\n",
       "    <tr>\n",
       "      <th>2</th>\n",
       "      <td>Catamarca</td>\n",
       "      <td>10010.0</td>\n",
       "      <td>10495.0</td>\n",
       "      <td>46224.0</td>\n",
       "      <td>1329.0</td>\n",
       "      <td>2235.0</td>\n",
       "      <td>70293.0</td>\n",
       "    </tr>\n",
       "    <tr>\n",
       "      <th>3</th>\n",
       "      <td>Chaco</td>\n",
       "      <td>27164.0</td>\n",
       "      <td>61800.0</td>\n",
       "      <td>44645.0</td>\n",
       "      <td>8178.0</td>\n",
       "      <td>2359.0</td>\n",
       "      <td>144146.0</td>\n",
       "    </tr>\n",
       "    <tr>\n",
       "      <th>4</th>\n",
       "      <td>Chubut</td>\n",
       "      <td>45377.0</td>\n",
       "      <td>72212.0</td>\n",
       "      <td>9574.0</td>\n",
       "      <td>29784.0</td>\n",
       "      <td>8831.0</td>\n",
       "      <td>165778.0</td>\n",
       "    </tr>\n",
       "  </tbody>\n",
       "</table>\n",
       "</div>"
      ],
      "text/plain": [
       "         Provincia      ADSL  Cablemodem  Fibra_optica  Wireless    Otros   \n",
       "0     Buenos Aires  339648.0   2748325.0     1436433.0  126846.0  70416.0  \\\n",
       "1  Capital Federal  140791.0   1240125.0      129218.0    5758.0  31787.0   \n",
       "2        Catamarca   10010.0     10495.0       46224.0    1329.0   2235.0   \n",
       "3            Chaco   27164.0     61800.0       44645.0    8178.0   2359.0   \n",
       "4           Chubut   45377.0     72212.0        9574.0   29784.0   8831.0   \n",
       "\n",
       "       Total  \n",
       "0  4721668.0  \n",
       "1  1547679.0  \n",
       "2    70293.0  \n",
       "3   144146.0  \n",
       "4   165778.0  "
      ]
     },
     "execution_count": 105,
     "metadata": {},
     "output_type": "execute_result"
    }
   ],
   "source": [
    "df_3_trimestre_ultimo.head()"
   ]
  },
  {
   "cell_type": "code",
   "execution_count": 106,
   "metadata": {},
   "outputs": [],
   "source": [
    "def porcentajes_df_3(p):\n",
    "    for i in p:\n",
    "        df_3_trimestre_ultimo[i] = round((df_3_trimestre_ultimo[i]/df_3_trimestre_ultimo['Total'])*100,1)\n",
    "    return "
   ]
  },
  {
   "cell_type": "code",
   "execution_count": 107,
   "metadata": {},
   "outputs": [],
   "source": [
    "porcentajes_df_3(['ADSL','Cablemodem','Fibra_optica','Wireless','Otros'])"
   ]
  },
  {
   "cell_type": "code",
   "execution_count": 109,
   "metadata": {},
   "outputs": [],
   "source": [
    "df_3_trimestre_ultimo.drop(columns='Total',inplace=True)"
   ]
  },
  {
   "cell_type": "code",
   "execution_count": 129,
   "metadata": {},
   "outputs": [
    {
     "data": {
      "text/html": [
       "<div>\n",
       "<style scoped>\n",
       "    .dataframe tbody tr th:only-of-type {\n",
       "        vertical-align: middle;\n",
       "    }\n",
       "\n",
       "    .dataframe tbody tr th {\n",
       "        vertical-align: top;\n",
       "    }\n",
       "\n",
       "    .dataframe thead th {\n",
       "        text-align: right;\n",
       "    }\n",
       "</style>\n",
       "<table border=\"1\" class=\"dataframe\">\n",
       "  <thead>\n",
       "    <tr style=\"text-align: right;\">\n",
       "      <th></th>\n",
       "      <th>Provincia</th>\n",
       "      <th>ADSL</th>\n",
       "      <th>Cablemodem</th>\n",
       "      <th>Fibra_optica</th>\n",
       "      <th>Wireless</th>\n",
       "      <th>Otros</th>\n",
       "    </tr>\n",
       "  </thead>\n",
       "  <tbody>\n",
       "    <tr>\n",
       "      <th>0</th>\n",
       "      <td>Buenos Aires</td>\n",
       "      <td>7.2</td>\n",
       "      <td>58.2</td>\n",
       "      <td>30.4</td>\n",
       "      <td>2.7</td>\n",
       "      <td>1.5</td>\n",
       "    </tr>\n",
       "    <tr>\n",
       "      <th>1</th>\n",
       "      <td>Capital Federal</td>\n",
       "      <td>9.1</td>\n",
       "      <td>80.1</td>\n",
       "      <td>8.3</td>\n",
       "      <td>0.4</td>\n",
       "      <td>2.1</td>\n",
       "    </tr>\n",
       "    <tr>\n",
       "      <th>2</th>\n",
       "      <td>Catamarca</td>\n",
       "      <td>14.2</td>\n",
       "      <td>14.9</td>\n",
       "      <td>65.8</td>\n",
       "      <td>1.9</td>\n",
       "      <td>3.2</td>\n",
       "    </tr>\n",
       "    <tr>\n",
       "      <th>3</th>\n",
       "      <td>Chaco</td>\n",
       "      <td>18.8</td>\n",
       "      <td>42.9</td>\n",
       "      <td>31.0</td>\n",
       "      <td>5.7</td>\n",
       "      <td>1.6</td>\n",
       "    </tr>\n",
       "    <tr>\n",
       "      <th>4</th>\n",
       "      <td>Chubut</td>\n",
       "      <td>27.4</td>\n",
       "      <td>43.6</td>\n",
       "      <td>5.8</td>\n",
       "      <td>18.0</td>\n",
       "      <td>5.3</td>\n",
       "    </tr>\n",
       "  </tbody>\n",
       "</table>\n",
       "</div>"
      ],
      "text/plain": [
       "         Provincia  ADSL  Cablemodem  Fibra_optica  Wireless  Otros\n",
       "0     Buenos Aires   7.2        58.2          30.4       2.7    1.5\n",
       "1  Capital Federal   9.1        80.1           8.3       0.4    2.1\n",
       "2        Catamarca  14.2        14.9          65.8       1.9    3.2\n",
       "3            Chaco  18.8        42.9          31.0       5.7    1.6\n",
       "4           Chubut  27.4        43.6           5.8      18.0    5.3"
      ]
     },
     "execution_count": 129,
     "metadata": {},
     "output_type": "execute_result"
    }
   ],
   "source": [
    "df_3_trimestre_ultimo.head()"
   ]
  },
  {
   "cell_type": "code",
   "execution_count": 165,
   "metadata": {},
   "outputs": [
    {
     "data": {
      "image/png": "[encoded data removed]",
      "text/plain": [
       "<Figure size 640x480 with 1 Axes>"
      ]
     },
     "metadata": {},
     "output_type": "display_data"
    }
   ],
   "source": [
    "# Grafica del porcentaje del tipo de tecnologia por provincia.\n",
    "\n",
    "def tecnologia_por_provincia():\n",
    "    \n",
    "    #plot1\n",
    "    x1 = df_3_trimestre_ultimo.index\n",
    "    y1= df_3_trimestre_ultimo['Cablemodem']\n",
    "    for i in [0,1,3,4,5,6,7,8,9,10,11,13,14,15,16,19,20,21,22]:\n",
    "        plt.annotate(str(df_3_trimestre_ultimo['Provincia'][i]),xy=(x1[i],y1[i]),xytext=(x1[i],y1[i]+3),ha= 'center',rotation= 90)\n",
    "    plt.scatter(x1,y1,alpha=0.5,s=100)\n",
    "\n",
    "    #plot5\n",
    "    x5 = df_3_trimestre_ultimo.index\n",
    "    y5 = df_3_trimestre_ultimo['Fibra_optica']\n",
    "    for i in [2,12,23]:\n",
    "        plt.annotate(str(df_3_trimestre_ultimo['Provincia'][i]),xy=(x5[i],y5[i]),xytext=(x5[i],y5[i]+3),ha= 'center',rotation= 90)\n",
    "    plt.scatter(x5,y5,alpha=0.5,s=100)\n",
    "    \n",
    "    #plot2\n",
    "    x2 = df_3_trimestre_ultimo.index\n",
    "    y2 = df_3_trimestre_ultimo['ADSL']\n",
    "    plt.annotate(str(df_3_trimestre_ultimo['Provincia'][17]),xy=(x2[17],y2[17]),xytext=(x2[17],y2[17]+3),ha= 'center',rotation= 90)\n",
    "    plt.scatter(x2,y2,alpha=0.5,s=100)\n",
    "\n",
    "    #plot3\n",
    "    x3 = df_3_trimestre_ultimo.index\n",
    "    y3 = df_3_trimestre_ultimo['Wireless']\n",
    "    plt.annotate(str(df_3_trimestre_ultimo['Provincia'][18]),xy=(x3[18],y3[18]),xytext=(x3[18],y3[18]+3),ha= 'center',rotation= 90)\n",
    "    plt.scatter(x3,y3,alpha=0.5,s=100)\n",
    "\n",
    "    #plot4\n",
    "    x4 = df_3_trimestre_ultimo.index\n",
    "    y4 = df_3_trimestre_ultimo['Otros']\n",
    "    plt.scatter(x4,y4,alpha=0.5,s=100)\n",
    "\n",
    "    plt.xlabel(\"Provincias\")\n",
    "    plt.ylabel(\"Porcentaje de Conexiones\")\n",
    "    plt.grid(axis = 'y')\n",
    "    plt.legend(['Cablemodem','Fibra Optica','ADSL','Wireless','Otros'],bbox_to_anchor=(1.4,0.5))\n",
    "\n",
    "    return plt.show()\n",
    "tecnologia_por_provincia()"
   ]
  },
  {
   "cell_type": "code",
   "execution_count": 205,
   "metadata": {},
   "outputs": [],
   "source": [
    "df_Nacional_Acces_Internet = pd.read_csv('https://datosabiertos.enacom.gob.ar/rest/datastreams/281491/data.csv')"
   ]
  },
  {
   "cell_type": "code",
   "execution_count": 209,
   "metadata": {},
   "outputs": [
    {
     "data": {
      "text/html": [
       "<div>\n",
       "<style scoped>\n",
       "    .dataframe tbody tr th:only-of-type {\n",
       "        vertical-align: middle;\n",
       "    }\n",
       "\n",
       "    .dataframe tbody tr th {\n",
       "        vertical-align: top;\n",
       "    }\n",
       "\n",
       "    .dataframe thead th {\n",
       "        text-align: right;\n",
       "    }\n",
       "</style>\n",
       "<table border=\"1\" class=\"dataframe\">\n",
       "  <thead>\n",
       "    <tr style=\"text-align: right;\">\n",
       "      <th></th>\n",
       "      <th>Año</th>\n",
       "      <th>Trimestre</th>\n",
       "      <th>Accesos_por_cada_100_hogares</th>\n",
       "      <th>Accesos por cada 100 hab</th>\n",
       "      <th>Periodo</th>\n",
       "    </tr>\n",
       "  </thead>\n",
       "  <tbody>\n",
       "    <tr>\n",
       "      <th>0</th>\n",
       "      <td>2022</td>\n",
       "      <td>3</td>\n",
       "      <td>76.64</td>\n",
       "      <td>23,95</td>\n",
       "      <td>Jul-Sept 2022</td>\n",
       "    </tr>\n",
       "    <tr>\n",
       "      <th>1</th>\n",
       "      <td>2022</td>\n",
       "      <td>2</td>\n",
       "      <td>75.97</td>\n",
       "      <td>23,72</td>\n",
       "      <td>Abr-Jun 2022</td>\n",
       "    </tr>\n",
       "    <tr>\n",
       "      <th>2</th>\n",
       "      <td>2022</td>\n",
       "      <td>1</td>\n",
       "      <td>73.88</td>\n",
       "      <td>23,05</td>\n",
       "      <td>Ene-Mar 2022</td>\n",
       "    </tr>\n",
       "    <tr>\n",
       "      <th>3</th>\n",
       "      <td>2021</td>\n",
       "      <td>4</td>\n",
       "      <td>73.18</td>\n",
       "      <td>22,81</td>\n",
       "      <td>Oct-Dic 2021</td>\n",
       "    </tr>\n",
       "    <tr>\n",
       "      <th>4</th>\n",
       "      <td>2021</td>\n",
       "      <td>3</td>\n",
       "      <td>70.58</td>\n",
       "      <td>21,98</td>\n",
       "      <td>Jul-Sept 2021</td>\n",
       "    </tr>\n",
       "  </tbody>\n",
       "</table>\n",
       "</div>"
      ],
      "text/plain": [
       "    Año  Trimestre Accesos_por_cada_100_hogares Accesos por cada 100 hab   \n",
       "0  2022          3                        76.64                    23,95  \\\n",
       "1  2022          2                        75.97                    23,72   \n",
       "2  2022          1                        73.88                    23,05   \n",
       "3  2021          4                        73.18                    22,81   \n",
       "4  2021          3                        70.58                    21,98   \n",
       "\n",
       "         Periodo  \n",
       "0  Jul-Sept 2022  \n",
       "1   Abr-Jun 2022  \n",
       "2   Ene-Mar 2022  \n",
       "3   Oct-Dic 2021  \n",
       "4  Jul-Sept 2021  "
      ]
     },
     "execution_count": 209,
     "metadata": {},
     "output_type": "execute_result"
    }
   ],
   "source": [
    "df_Nacional_Acces_Internet.head()"
   ]
  },
  {
   "cell_type": "code",
   "execution_count": 213,
   "metadata": {},
   "outputs": [
    {
     "name": "stdout",
     "output_type": "stream",
     "text": [
      "<class 'pandas.core.frame.DataFrame'>\n",
      "RangeIndex: 35 entries, 0 to 34\n",
      "Data columns (total 5 columns):\n",
      " #   Column                        Non-Null Count  Dtype  \n",
      "---  ------                        --------------  -----  \n",
      " 0   Año                           35 non-null     int64  \n",
      " 1   Trimestre                     35 non-null     int64  \n",
      " 2   Accesos_por_cada_100_hogares  35 non-null     float64\n",
      " 3   Accesos por cada 100 hab      35 non-null     object \n",
      " 4   Periodo                       35 non-null     object \n",
      "dtypes: float64(1), int64(2), object(2)\n",
      "memory usage: 1.5+ KB\n"
     ]
    }
   ],
   "source": [
    "df_Nacional_Acces_Internet.info()"
   ]
  },
  {
   "cell_type": "code",
   "execution_count": 207,
   "metadata": {},
   "outputs": [],
   "source": [
    "df_Nacional_Acces_Internet.rename(columns={'Accesos por cada 100 hogares':'Accesos_por_cada_100_hogares'},inplace=True)"
   ]
  },
  {
   "cell_type": "code",
   "execution_count": 208,
   "metadata": {},
   "outputs": [],
   "source": [
    "df_Nacional_Acces_Internet['Accesos_por_cada_100_hogares'] = df_Nacional_Acces_Internet.Accesos_por_cada_100_hogares.str.replace(',','.')"
   ]
  },
  {
   "cell_type": "code",
   "execution_count": 212,
   "metadata": {},
   "outputs": [],
   "source": [
    "df_Nacional_Acces_Internet = df_Nacional_Acces_Internet.astype({'Accesos_por_cada_100_hogares':'float64'})"
   ]
  },
  {
   "cell_type": "code",
   "execution_count": 260,
   "metadata": {},
   "outputs": [],
   "source": [
    "variacion = []\n",
    "\n",
    "for i in range(33):\n",
    "    \n",
    "    variacion.append(round(df_Nacional_Acces_Internet['Accesos_por_cada_100_hogares'][i]-df_Nacional_Acces_Internet['Accesos_por_cada_100_hogares'][i+1],2))\n",
    "    "
   ]
  },
  {
   "cell_type": "code",
   "execution_count": 261,
   "metadata": {},
   "outputs": [
    {
     "name": "stdout",
     "output_type": "stream",
     "text": [
      "[0.67, 2.09, 0.7, 2.6, 1.34, 1.29, 0.33, 1.31, 2.1, 1.35, -0.06, -2.87, 1.26, 2.05, 1.06, 0.73, 1.53, 0.34, 1.04, 0.88, 2.0, 0.74, 0.22, 0.21, 0.39, 1.49, -0.78, 0.17, 0.7, 0.4, 0.86, -0.17, 0.81]\n"
     ]
    }
   ],
   "source": [
    "print(variacion)"
   ]
  },
  {
   "cell_type": "code",
   "execution_count": 279,
   "metadata": {},
   "outputs": [],
   "source": [
    "df_variacion = pd.DataFrame({'Variacion':variacion})"
   ]
  },
  {
   "cell_type": "code",
   "execution_count": 290,
   "metadata": {},
   "outputs": [],
   "source": [
    "df_variacion = df_variacion.sort_index(ascending=False, ignore_index=True)"
   ]
  },
  {
   "cell_type": "code",
   "execution_count": 292,
   "metadata": {},
   "outputs": [
    {
     "data": {
      "text/html": [
       "<div>\n",
       "<style scoped>\n",
       "    .dataframe tbody tr th:only-of-type {\n",
       "        vertical-align: middle;\n",
       "    }\n",
       "\n",
       "    .dataframe tbody tr th {\n",
       "        vertical-align: top;\n",
       "    }\n",
       "\n",
       "    .dataframe thead th {\n",
       "        text-align: right;\n",
       "    }\n",
       "</style>\n",
       "<table border=\"1\" class=\"dataframe\">\n",
       "  <thead>\n",
       "    <tr style=\"text-align: right;\">\n",
       "      <th></th>\n",
       "      <th>Variacion</th>\n",
       "    </tr>\n",
       "  </thead>\n",
       "  <tbody>\n",
       "    <tr>\n",
       "      <th>0</th>\n",
       "      <td>0.81</td>\n",
       "    </tr>\n",
       "    <tr>\n",
       "      <th>1</th>\n",
       "      <td>-0.17</td>\n",
       "    </tr>\n",
       "    <tr>\n",
       "      <th>2</th>\n",
       "      <td>0.86</td>\n",
       "    </tr>\n",
       "    <tr>\n",
       "      <th>3</th>\n",
       "      <td>0.40</td>\n",
       "    </tr>\n",
       "    <tr>\n",
       "      <th>4</th>\n",
       "      <td>0.70</td>\n",
       "    </tr>\n",
       "  </tbody>\n",
       "</table>\n",
       "</div>"
      ],
      "text/plain": [
       "   Variacion\n",
       "0       0.81\n",
       "1      -0.17\n",
       "2       0.86\n",
       "3       0.40\n",
       "4       0.70"
      ]
     },
     "execution_count": 292,
     "metadata": {},
     "output_type": "execute_result"
    }
   ],
   "source": [
    "df_variacion.head()"
   ]
  },
  {
   "cell_type": "code",
   "execution_count": 295,
   "metadata": {},
   "outputs": [
    {
     "data": {
      "text/html": [
       "<div>\n",
       "<style scoped>\n",
       "    .dataframe tbody tr th:only-of-type {\n",
       "        vertical-align: middle;\n",
       "    }\n",
       "\n",
       "    .dataframe tbody tr th {\n",
       "        vertical-align: top;\n",
       "    }\n",
       "\n",
       "    .dataframe thead th {\n",
       "        text-align: right;\n",
       "    }\n",
       "</style>\n",
       "<table border=\"1\" class=\"dataframe\">\n",
       "  <thead>\n",
       "    <tr style=\"text-align: right;\">\n",
       "      <th></th>\n",
       "      <th>Variacion</th>\n",
       "    </tr>\n",
       "  </thead>\n",
       "  <tbody>\n",
       "    <tr>\n",
       "      <th>count</th>\n",
       "      <td>33.000000</td>\n",
       "    </tr>\n",
       "    <tr>\n",
       "      <th>mean</th>\n",
       "      <td>0.811515</td>\n",
       "    </tr>\n",
       "    <tr>\n",
       "      <th>std</th>\n",
       "      <td>0.993347</td>\n",
       "    </tr>\n",
       "    <tr>\n",
       "      <th>min</th>\n",
       "      <td>-2.870000</td>\n",
       "    </tr>\n",
       "    <tr>\n",
       "      <th>25%</th>\n",
       "      <td>0.340000</td>\n",
       "    </tr>\n",
       "    <tr>\n",
       "      <th>50%</th>\n",
       "      <td>0.810000</td>\n",
       "    </tr>\n",
       "    <tr>\n",
       "      <th>75%</th>\n",
       "      <td>1.340000</td>\n",
       "    </tr>\n",
       "    <tr>\n",
       "      <th>max</th>\n",
       "      <td>2.600000</td>\n",
       "    </tr>\n",
       "  </tbody>\n",
       "</table>\n",
       "</div>"
      ],
      "text/plain": [
       "       Variacion\n",
       "count  33.000000\n",
       "mean    0.811515\n",
       "std     0.993347\n",
       "min    -2.870000\n",
       "25%     0.340000\n",
       "50%     0.810000\n",
       "75%     1.340000\n",
       "max     2.600000"
      ]
     },
     "execution_count": 295,
     "metadata": {},
     "output_type": "execute_result"
    }
   ],
   "source": [
    "df_variacion.describe()"
   ]
  },
  {
   "cell_type": "code",
   "execution_count": 366,
   "metadata": {},
   "outputs": [],
   "source": [
    "df_Internet_Tecnologia = data_base(df_2)"
   ]
  },
  {
   "cell_type": "code",
   "execution_count": 367,
   "metadata": {},
   "outputs": [
    {
     "data": {
      "text/html": [
       "<div>\n",
       "<style scoped>\n",
       "    .dataframe tbody tr th:only-of-type {\n",
       "        vertical-align: middle;\n",
       "    }\n",
       "\n",
       "    .dataframe tbody tr th {\n",
       "        vertical-align: top;\n",
       "    }\n",
       "\n",
       "    .dataframe thead th {\n",
       "        text-align: right;\n",
       "    }\n",
       "</style>\n",
       "<table border=\"1\" class=\"dataframe\">\n",
       "  <thead>\n",
       "    <tr style=\"text-align: right;\">\n",
       "      <th></th>\n",
       "      <th>Año</th>\n",
       "      <th>Trimestre</th>\n",
       "      <th>Wireless</th>\n",
       "      <th>Otros</th>\n",
       "    </tr>\n",
       "  </thead>\n",
       "  <tbody>\n",
       "    <tr>\n",
       "      <th>count</th>\n",
       "      <td>35.000000</td>\n",
       "      <td>35.000000</td>\n",
       "      <td>35.000000</td>\n",
       "      <td>35.000000</td>\n",
       "    </tr>\n",
       "    <tr>\n",
       "      <th>mean</th>\n",
       "      <td>2017.885714</td>\n",
       "      <td>2.457143</td>\n",
       "      <td>248.280029</td>\n",
       "      <td>147.431086</td>\n",
       "    </tr>\n",
       "    <tr>\n",
       "      <th>std</th>\n",
       "      <td>2.564135</td>\n",
       "      <td>1.120474</td>\n",
       "      <td>174.354293</td>\n",
       "      <td>85.868717</td>\n",
       "    </tr>\n",
       "    <tr>\n",
       "      <th>min</th>\n",
       "      <td>2014.000000</td>\n",
       "      <td>1.000000</td>\n",
       "      <td>70.749000</td>\n",
       "      <td>54.300000</td>\n",
       "    </tr>\n",
       "    <tr>\n",
       "      <th>25%</th>\n",
       "      <td>2016.000000</td>\n",
       "      <td>1.500000</td>\n",
       "      <td>85.107500</td>\n",
       "      <td>62.763500</td>\n",
       "    </tr>\n",
       "    <tr>\n",
       "      <th>50%</th>\n",
       "      <td>2018.000000</td>\n",
       "      <td>2.000000</td>\n",
       "      <td>194.267000</td>\n",
       "      <td>100.554000</td>\n",
       "    </tr>\n",
       "    <tr>\n",
       "      <th>75%</th>\n",
       "      <td>2020.000000</td>\n",
       "      <td>3.000000</td>\n",
       "      <td>394.963000</td>\n",
       "      <td>247.918500</td>\n",
       "    </tr>\n",
       "    <tr>\n",
       "      <th>max</th>\n",
       "      <td>2022.000000</td>\n",
       "      <td>4.000000</td>\n",
       "      <td>557.110000</td>\n",
       "      <td>265.328000</td>\n",
       "    </tr>\n",
       "  </tbody>\n",
       "</table>\n",
       "</div>"
      ],
      "text/plain": [
       "               Año  Trimestre    Wireless       Otros\n",
       "count    35.000000  35.000000   35.000000   35.000000\n",
       "mean   2017.885714   2.457143  248.280029  147.431086\n",
       "std       2.564135   1.120474  174.354293   85.868717\n",
       "min    2014.000000   1.000000   70.749000   54.300000\n",
       "25%    2016.000000   1.500000   85.107500   62.763500\n",
       "50%    2018.000000   2.000000  194.267000  100.554000\n",
       "75%    2020.000000   3.000000  394.963000  247.918500\n",
       "max    2022.000000   4.000000  557.110000  265.328000"
      ]
     },
     "execution_count": 367,
     "metadata": {},
     "output_type": "execute_result"
    }
   ],
   "source": [
    "df_Internet_Tecnologia.describe()"
   ]
  },
  {
   "cell_type": "code",
   "execution_count": 374,
   "metadata": {},
   "outputs": [
    {
     "data": {
      "text/html": [
       "<div>\n",
       "<style scoped>\n",
       "    .dataframe tbody tr th:only-of-type {\n",
       "        vertical-align: middle;\n",
       "    }\n",
       "\n",
       "    .dataframe tbody tr th {\n",
       "        vertical-align: top;\n",
       "    }\n",
       "\n",
       "    .dataframe thead th {\n",
       "        text-align: right;\n",
       "    }\n",
       "</style>\n",
       "<table border=\"1\" class=\"dataframe\">\n",
       "  <thead>\n",
       "    <tr style=\"text-align: right;\">\n",
       "      <th></th>\n",
       "      <th>Año</th>\n",
       "      <th>Trimestre</th>\n",
       "      <th>ADSL</th>\n",
       "      <th>Cablemodem</th>\n",
       "      <th>Fibra_optica</th>\n",
       "      <th>Wireless</th>\n",
       "      <th>Otros</th>\n",
       "      <th>Total</th>\n",
       "      <th>Periodo</th>\n",
       "    </tr>\n",
       "  </thead>\n",
       "  <tbody>\n",
       "    <tr>\n",
       "      <th>0</th>\n",
       "      <td>2022</td>\n",
       "      <td>3</td>\n",
       "      <td>1.395.277</td>\n",
       "      <td>6.031.970</td>\n",
       "      <td>25.9</td>\n",
       "      <td>557.110</td>\n",
       "      <td>235.230</td>\n",
       "      <td>11091128.0</td>\n",
       "      <td>Jul-Sept 2022</td>\n",
       "    </tr>\n",
       "    <tr>\n",
       "      <th>1</th>\n",
       "      <td>2022</td>\n",
       "      <td>2</td>\n",
       "      <td>1.468.333</td>\n",
       "      <td>5.979.214</td>\n",
       "      <td>24.9</td>\n",
       "      <td>556.243</td>\n",
       "      <td>231.609</td>\n",
       "      <td>10958684.0</td>\n",
       "      <td>Abr-Jun 2022</td>\n",
       "    </tr>\n",
       "    <tr>\n",
       "      <th>2</th>\n",
       "      <td>2022</td>\n",
       "      <td>1</td>\n",
       "      <td>1.533.240</td>\n",
       "      <td>6.073.426</td>\n",
       "      <td>20.9</td>\n",
       "      <td>545.814</td>\n",
       "      <td>251.996</td>\n",
       "      <td>10624009.0</td>\n",
       "      <td>Ene-Mar 2022</td>\n",
       "    </tr>\n",
       "    <tr>\n",
       "      <th>3</th>\n",
       "      <td>2021</td>\n",
       "      <td>4</td>\n",
       "      <td>1.657.615</td>\n",
       "      <td>5.984.240</td>\n",
       "      <td>19.8</td>\n",
       "      <td>523.107</td>\n",
       "      <td>252.596</td>\n",
       "      <td>10489794.0</td>\n",
       "      <td>Oct-Dic 2021</td>\n",
       "    </tr>\n",
       "    <tr>\n",
       "      <th>4</th>\n",
       "      <td>2021</td>\n",
       "      <td>3</td>\n",
       "      <td>1.950.631</td>\n",
       "      <td>5.826.257</td>\n",
       "      <td>15.5</td>\n",
       "      <td>492.415</td>\n",
       "      <td>250.190</td>\n",
       "      <td>10085541.0</td>\n",
       "      <td>Jul-Sept 2021</td>\n",
       "    </tr>\n",
       "  </tbody>\n",
       "</table>\n",
       "</div>"
      ],
      "text/plain": [
       "    Año  Trimestre       ADSL Cablemodem  Fibra_optica  Wireless    Otros   \n",
       "0  2022          3  1.395.277  6.031.970          25.9   557.110  235.230  \\\n",
       "1  2022          2  1.468.333  5.979.214          24.9   556.243  231.609   \n",
       "2  2022          1  1.533.240  6.073.426          20.9   545.814  251.996   \n",
       "3  2021          4  1.657.615  5.984.240          19.8   523.107  252.596   \n",
       "4  2021          3  1.950.631  5.826.257          15.5   492.415  250.190   \n",
       "\n",
       "        Total        Periodo  \n",
       "0  11091128.0  Jul-Sept 2022  \n",
       "1  10958684.0   Abr-Jun 2022  \n",
       "2  10624009.0   Ene-Mar 2022  \n",
       "3  10489794.0   Oct-Dic 2021  \n",
       "4  10085541.0  Jul-Sept 2021  "
      ]
     },
     "execution_count": 374,
     "metadata": {},
     "output_type": "execute_result"
    }
   ],
   "source": [
    "df_Internet_Tecnologia.head()"
   ]
  },
  {
   "cell_type": "code",
   "execution_count": 369,
   "metadata": {},
   "outputs": [],
   "source": [
    "df_Internet_Tecnologia.rename(columns={'Fibra óptica':'Fibra_optica'},inplace=True)"
   ]
  },
  {
   "cell_type": "code",
   "execution_count": 371,
   "metadata": {},
   "outputs": [],
   "source": [
    "df_Internet_Tecnologia['Fibra_optica'] = df_Internet_Tecnologia.Fibra_optica.str.replace('.','')\n",
    "df_Internet_Tecnologia['Total'] = df_Internet_Tecnologia.Total.str.replace('.','')"
   ]
  },
  {
   "cell_type": "code",
   "execution_count": 372,
   "metadata": {},
   "outputs": [],
   "source": [
    "df_Internet_Tecnologia = df_Internet_Tecnologia.astype({'Fibra_optica':'float64'})\n",
    "df_Internet_Tecnologia = df_Internet_Tecnologia.astype({'Total':'float64'})"
   ]
  },
  {
   "cell_type": "code",
   "execution_count": 373,
   "metadata": {},
   "outputs": [],
   "source": [
    "df_Internet_Tecnologia['Fibra_optica'] = round((df_Internet_Tecnologia['Fibra_optica'] / df_Internet_Tecnologia['Total'])*100,1)"
   ]
  },
  {
   "cell_type": "code",
   "execution_count": 375,
   "metadata": {},
   "outputs": [],
   "source": [
    "variacion_fibra = []\n",
    "\n",
    "for i in range(33):\n",
    "    \n",
    "    variacion_fibra.append(round(df_Internet_Tecnologia['Fibra_optica'][i]-df_Internet_Tecnologia['Fibra_optica'][i+1],2))"
   ]
  },
  {
   "cell_type": "code",
   "execution_count": 376,
   "metadata": {},
   "outputs": [],
   "source": [
    "df_variacion_fibra = pd.DataFrame({'Variacion_fibra':variacion_fibra})"
   ]
  },
  {
   "cell_type": "code",
   "execution_count": 377,
   "metadata": {},
   "outputs": [],
   "source": [
    "df_variacion_fibra = df_variacion_fibra.sort_index(ascending=False, ignore_index=True)"
   ]
  },
  {
   "cell_type": "code",
   "execution_count": 378,
   "metadata": {},
   "outputs": [],
   "source": [
    "df_variacion['variacion_fibra'] = df_variacion_fibra['Variacion_fibra']"
   ]
  },
  {
   "cell_type": "code",
   "execution_count": 379,
   "metadata": {},
   "outputs": [
    {
     "data": {
      "text/html": [
       "<div>\n",
       "<style scoped>\n",
       "    .dataframe tbody tr th:only-of-type {\n",
       "        vertical-align: middle;\n",
       "    }\n",
       "\n",
       "    .dataframe tbody tr th {\n",
       "        vertical-align: top;\n",
       "    }\n",
       "\n",
       "    .dataframe thead th {\n",
       "        text-align: right;\n",
       "    }\n",
       "</style>\n",
       "<table border=\"1\" class=\"dataframe\">\n",
       "  <thead>\n",
       "    <tr style=\"text-align: right;\">\n",
       "      <th></th>\n",
       "      <th>Variacion</th>\n",
       "      <th>variacion_fibra</th>\n",
       "    </tr>\n",
       "  </thead>\n",
       "  <tbody>\n",
       "    <tr>\n",
       "      <th>0</th>\n",
       "      <td>0.81</td>\n",
       "      <td>0.1</td>\n",
       "    </tr>\n",
       "    <tr>\n",
       "      <th>1</th>\n",
       "      <td>-0.17</td>\n",
       "      <td>-0.1</td>\n",
       "    </tr>\n",
       "    <tr>\n",
       "      <th>2</th>\n",
       "      <td>0.86</td>\n",
       "      <td>0.2</td>\n",
       "    </tr>\n",
       "    <tr>\n",
       "      <th>3</th>\n",
       "      <td>0.40</td>\n",
       "      <td>-0.3</td>\n",
       "    </tr>\n",
       "    <tr>\n",
       "      <th>4</th>\n",
       "      <td>0.70</td>\n",
       "      <td>0.1</td>\n",
       "    </tr>\n",
       "  </tbody>\n",
       "</table>\n",
       "</div>"
      ],
      "text/plain": [
       "   Variacion  variacion_fibra\n",
       "0       0.81              0.1\n",
       "1      -0.17             -0.1\n",
       "2       0.86              0.2\n",
       "3       0.40             -0.3\n",
       "4       0.70              0.1"
      ]
     },
     "execution_count": 379,
     "metadata": {},
     "output_type": "execute_result"
    }
   ],
   "source": [
    "df_variacion.head()"
   ]
  },
  {
   "cell_type": "code",
   "execution_count": 402,
   "metadata": {},
   "outputs": [],
   "source": [
    "def grafica_acceso_nacional():\n",
    "    x = df_variacion.index\n",
    "    y = df_variacion['Variacion']\n",
    "    for i in range(33):\n",
    "        plt.annotate(str(df_variacion['Variacion'][i]),xy=(x[i],y[i]),xytext=(x[i],y[i]+0.15),ha= 'center',rotation= 45)\n",
    "\n",
    "    plt.scatter(x,y)\n",
    "    plt.plot(x,y)\n",
    "\n",
    "    x1 = df_variacion.index\n",
    "    y1 = df_variacion['variacion_fibra']\n",
    "    for i in range(33):\n",
    "        plt.annotate(str(df_variacion['variacion_fibra'][i]),xy=(x1[i],y1[i]),xytext=(x1[i],y1[i]+0.15),ha= 'center',rotation= 45)\n",
    "\n",
    "    plt.scatter(x1,y1)\n",
    "    plt.plot(x1,y1)\n",
    "\n",
    "    plt.annotate('incremento de fibra es directamente proporcional al de usuarios',(29,4.3),xytext=(0,-2),arrowprops=dict(facecolor='black', shrink=0.05),size=15)\n",
    "    plt.annotate('incremento de fibra es directamente proporcional al de usuarios',(31,4.0),xytext=(0,-2),arrowprops=dict(facecolor='black', shrink=0.05),size=15)\n",
    "\n",
    "    return plt.show()"
   ]
  },
  {
   "cell_type": "code",
   "execution_count": 403,
   "metadata": {},
   "outputs": [
    {
     "data": {
      "image/png": "[encoded data removed]",
      "text/plain": [
       "<Figure size 640x480 with 1 Axes>"
      ]
     },
     "metadata": {},
     "output_type": "display_data"
    }
   ],
   "source": [
    "grafica_acceso_nacional()"
   ]
  },
  {
   "cell_type": "code",
   "execution_count": 404,
   "metadata": {},
   "outputs": [],
   "source": [
    "df_6 = pd.read_csv('https://datosabiertos.enacom.gob.ar/rest/datastreams/275023/data.csv')"
   ]
  },
  {
   "cell_type": "code",
   "execution_count": 407,
   "metadata": {},
   "outputs": [
    {
     "data": {
      "text/html": [
       "<div>\n",
       "<style scoped>\n",
       "    .dataframe tbody tr th:only-of-type {\n",
       "        vertical-align: middle;\n",
       "    }\n",
       "\n",
       "    .dataframe tbody tr th {\n",
       "        vertical-align: top;\n",
       "    }\n",
       "\n",
       "    .dataframe thead th {\n",
       "        text-align: right;\n",
       "    }\n",
       "</style>\n",
       "<table border=\"1\" class=\"dataframe\">\n",
       "  <thead>\n",
       "    <tr style=\"text-align: right;\">\n",
       "      <th></th>\n",
       "      <th>Año</th>\n",
       "      <th>Trimestre</th>\n",
       "      <th>Ingresos_miles_de_pesos</th>\n",
       "      <th>Periodo</th>\n",
       "    </tr>\n",
       "  </thead>\n",
       "  <tbody>\n",
       "    <tr>\n",
       "      <th>0</th>\n",
       "      <td>2022</td>\n",
       "      <td>3</td>\n",
       "      <td>67055930</td>\n",
       "      <td>Jul-Sept 2022</td>\n",
       "    </tr>\n",
       "    <tr>\n",
       "      <th>1</th>\n",
       "      <td>2022</td>\n",
       "      <td>2</td>\n",
       "      <td>60335724</td>\n",
       "      <td>Abr-Jun 2022</td>\n",
       "    </tr>\n",
       "    <tr>\n",
       "      <th>2</th>\n",
       "      <td>2022</td>\n",
       "      <td>1</td>\n",
       "      <td>55589997</td>\n",
       "      <td>Ene-Mar 2022</td>\n",
       "    </tr>\n",
       "    <tr>\n",
       "      <th>3</th>\n",
       "      <td>2021</td>\n",
       "      <td>4</td>\n",
       "      <td>45467887</td>\n",
       "      <td>Oct-Dic 2021</td>\n",
       "    </tr>\n",
       "    <tr>\n",
       "      <th>4</th>\n",
       "      <td>2021</td>\n",
       "      <td>3</td>\n",
       "      <td>42999944</td>\n",
       "      <td>Jul-Sept 2021</td>\n",
       "    </tr>\n",
       "  </tbody>\n",
       "</table>\n",
       "</div>"
      ],
      "text/plain": [
       "    Año  Trimestre Ingresos_miles_de_pesos        Periodo\n",
       "0  2022          3                67055930  Jul-Sept 2022\n",
       "1  2022          2                60335724   Abr-Jun 2022\n",
       "2  2022          1                55589997   Ene-Mar 2022\n",
       "3  2021          4                45467887   Oct-Dic 2021\n",
       "4  2021          3                42999944  Jul-Sept 2021"
      ]
     },
     "execution_count": 407,
     "metadata": {},
     "output_type": "execute_result"
    }
   ],
   "source": [
    "df_6.head()"
   ]
  },
  {
   "cell_type": "code",
   "execution_count": 406,
   "metadata": {},
   "outputs": [],
   "source": [
    "df_6.rename(columns={'Ingresos (miles de pesos)':'Ingresos_miles_de_pesos'},inplace=True)\n",
    "df_6['Ingresos_miles_de_pesos'] = df_6.Ingresos_miles_de_pesos.str.replace('.','')"
   ]
  },
  {
   "cell_type": "code",
   "execution_count": 408,
   "metadata": {},
   "outputs": [],
   "source": [
    "df_6 = df_6.astype({'Ingresos_miles_de_pesos':'float64'})"
   ]
  },
  {
   "cell_type": "code",
   "execution_count": 409,
   "metadata": {},
   "outputs": [],
   "source": [
    "variacion_ingresos = []\n",
    "\n",
    "for i in range(33):\n",
    "    \n",
    "    variacion_ingresos.append(round(df_6['Ingresos_miles_de_pesos'][i]-df_6['Ingresos_miles_de_pesos'][i+1],2))\n",
    "\n",
    "df_variacion_ingresos = pd.DataFrame({'Variacion_Ingresos':variacion_ingresos})\n",
    "\n",
    "df_variacion_ingresos = df_variacion_ingresos.sort_index(ascending=False, ignore_index=True)"
   ]
  },
  {
   "cell_type": "code",
   "execution_count": 411,
   "metadata": {},
   "outputs": [
    {
     "data": {
      "text/html": [
       "<div>\n",
       "<style scoped>\n",
       "    .dataframe tbody tr th:only-of-type {\n",
       "        vertical-align: middle;\n",
       "    }\n",
       "\n",
       "    .dataframe tbody tr th {\n",
       "        vertical-align: top;\n",
       "    }\n",
       "\n",
       "    .dataframe thead th {\n",
       "        text-align: right;\n",
       "    }\n",
       "</style>\n",
       "<table border=\"1\" class=\"dataframe\">\n",
       "  <thead>\n",
       "    <tr style=\"text-align: right;\">\n",
       "      <th></th>\n",
       "      <th>Variacion_Ingresos</th>\n",
       "    </tr>\n",
       "  </thead>\n",
       "  <tbody>\n",
       "    <tr>\n",
       "      <th>28</th>\n",
       "      <td>4760277.0</td>\n",
       "    </tr>\n",
       "    <tr>\n",
       "      <th>29</th>\n",
       "      <td>2467943.0</td>\n",
       "    </tr>\n",
       "    <tr>\n",
       "      <th>30</th>\n",
       "      <td>10122110.0</td>\n",
       "    </tr>\n",
       "    <tr>\n",
       "      <th>31</th>\n",
       "      <td>4745727.0</td>\n",
       "    </tr>\n",
       "    <tr>\n",
       "      <th>32</th>\n",
       "      <td>6720206.0</td>\n",
       "    </tr>\n",
       "  </tbody>\n",
       "</table>\n",
       "</div>"
      ],
      "text/plain": [
       "    Variacion_Ingresos\n",
       "28           4760277.0\n",
       "29           2467943.0\n",
       "30          10122110.0\n",
       "31           4745727.0\n",
       "32           6720206.0"
      ]
     },
     "execution_count": 411,
     "metadata": {},
     "output_type": "execute_result"
    }
   ],
   "source": [
    "df_variacion_ingresos.tail()"
   ]
  }
 ],
 "metadata": {
  "kernelspec": {
   "display_name": "proyecto_individual_dos",
   "language": "python",
   "name": "python3"
  },
  "language_info": {
   "codemirror_mode": {
    "name": "ipython",
    "version": 3
   },
   "file_extension": ".py",
   "mimetype": "text/x-python",
   "name": "python",
   "nbconvert_exporter": "python",
   "pygments_lexer": "ipython3",
   "version": "3.11.1"
  },
  "orig_nbformat": 4
 },
 "nbformat": 4,
 "nbformat_minor": 2
}
